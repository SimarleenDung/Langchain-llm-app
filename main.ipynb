{
 "cells": [
  {
   "cell_type": "code",
   "execution_count": 1,
   "id": "bda23cc0",
   "metadata": {},
   "outputs": [
    {
     "name": "stdout",
     "output_type": "stream",
     "text": [
      "Requirement already satisfied: langchain-google-genai in c:\\users\\simu\\appdata\\local\\programs\\python\\python310\\lib\\site-packages (2.1.10)\n",
      "Requirement already satisfied: filetype<2.0.0,>=1.2.0 in c:\\users\\simu\\appdata\\local\\programs\\python\\python310\\lib\\site-packages (from langchain-google-genai) (1.2.0)\n",
      "Requirement already satisfied: google-ai-generativelanguage<0.7.0,>=0.6.18 in c:\\users\\simu\\appdata\\local\\programs\\python\\python310\\lib\\site-packages (from langchain-google-genai) (0.6.18)\n",
      "Requirement already satisfied: langchain-core<0.4.0,>=0.3.75 in c:\\users\\simu\\appdata\\local\\programs\\python\\python310\\lib\\site-packages (from langchain-google-genai) (0.3.75)\n",
      "Requirement already satisfied: pydantic<3,>=2 in c:\\users\\simu\\appdata\\local\\programs\\python\\python310\\lib\\site-packages (from langchain-google-genai) (2.10.6)\n",
      "Requirement already satisfied: google-api-core!=2.0.*,!=2.1.*,!=2.10.*,!=2.2.*,!=2.3.*,!=2.4.*,!=2.5.*,!=2.6.*,!=2.7.*,!=2.8.*,!=2.9.*,<3.0.0,>=1.34.1 in c:\\users\\simu\\appdata\\local\\programs\\python\\python310\\lib\\site-packages (from google-api-core[grpc]!=2.0.*,!=2.1.*,!=2.10.*,!=2.2.*,!=2.3.*,!=2.4.*,!=2.5.*,!=2.6.*,!=2.7.*,!=2.8.*,!=2.9.*,<3.0.0,>=1.34.1->google-ai-generativelanguage<0.7.0,>=0.6.18->langchain-google-genai) (2.25.1)\n",
      "Requirement already satisfied: google-auth!=2.24.0,!=2.25.0,<3.0.0,>=2.14.1 in c:\\users\\simu\\appdata\\local\\programs\\python\\python310\\lib\\site-packages (from google-ai-generativelanguage<0.7.0,>=0.6.18->langchain-google-genai) (2.17.3)\n",
      "Requirement already satisfied: proto-plus<2.0.0,>=1.22.3 in c:\\users\\simu\\appdata\\local\\programs\\python\\python310\\lib\\site-packages (from google-ai-generativelanguage<0.7.0,>=0.6.18->langchain-google-genai) (1.26.1)\n",
      "Requirement already satisfied: protobuf!=4.21.0,!=4.21.1,!=4.21.2,!=4.21.3,!=4.21.4,!=4.21.5,<7.0.0,>=3.20.2 in c:\\users\\simu\\appdata\\local\\programs\\python\\python310\\lib\\site-packages (from google-ai-generativelanguage<0.7.0,>=0.6.18->langchain-google-genai) (6.32.0)\n",
      "Requirement already satisfied: googleapis-common-protos<2.0.0,>=1.56.2 in c:\\users\\simu\\appdata\\local\\programs\\python\\python310\\lib\\site-packages (from google-api-core!=2.0.*,!=2.1.*,!=2.10.*,!=2.2.*,!=2.3.*,!=2.4.*,!=2.5.*,!=2.6.*,!=2.7.*,!=2.8.*,!=2.9.*,<3.0.0,>=1.34.1->google-api-core[grpc]!=2.0.*,!=2.1.*,!=2.10.*,!=2.2.*,!=2.3.*,!=2.4.*,!=2.5.*,!=2.6.*,!=2.7.*,!=2.8.*,!=2.9.*,<3.0.0,>=1.34.1->google-ai-generativelanguage<0.7.0,>=0.6.18->langchain-google-genai) (1.70.0)\n",
      "Requirement already satisfied: requests<3.0.0,>=2.18.0 in c:\\users\\simu\\appdata\\local\\programs\\python\\python310\\lib\\site-packages (from google-api-core!=2.0.*,!=2.1.*,!=2.10.*,!=2.2.*,!=2.3.*,!=2.4.*,!=2.5.*,!=2.6.*,!=2.7.*,!=2.8.*,!=2.9.*,<3.0.0,>=1.34.1->google-api-core[grpc]!=2.0.*,!=2.1.*,!=2.10.*,!=2.2.*,!=2.3.*,!=2.4.*,!=2.5.*,!=2.6.*,!=2.7.*,!=2.8.*,!=2.9.*,<3.0.0,>=1.34.1->google-ai-generativelanguage<0.7.0,>=0.6.18->langchain-google-genai) (2.32.5)\n",
      "Requirement already satisfied: grpcio<2.0.0,>=1.33.2 in c:\\users\\simu\\appdata\\local\\programs\\python\\python310\\lib\\site-packages (from google-api-core[grpc]!=2.0.*,!=2.1.*,!=2.10.*,!=2.2.*,!=2.3.*,!=2.4.*,!=2.5.*,!=2.6.*,!=2.7.*,!=2.8.*,!=2.9.*,<3.0.0,>=1.34.1->google-ai-generativelanguage<0.7.0,>=0.6.18->langchain-google-genai) (1.74.0)\n",
      "Requirement already satisfied: grpcio-status<2.0.0,>=1.33.2 in c:\\users\\simu\\appdata\\local\\programs\\python\\python310\\lib\\site-packages (from google-api-core[grpc]!=2.0.*,!=2.1.*,!=2.10.*,!=2.2.*,!=2.3.*,!=2.4.*,!=2.5.*,!=2.6.*,!=2.7.*,!=2.8.*,!=2.9.*,<3.0.0,>=1.34.1->google-ai-generativelanguage<0.7.0,>=0.6.18->langchain-google-genai) (1.74.0)\n",
      "Requirement already satisfied: cachetools<6.0,>=2.0.0 in c:\\users\\simu\\appdata\\local\\programs\\python\\python310\\lib\\site-packages (from google-auth!=2.24.0,!=2.25.0,<3.0.0,>=2.14.1->google-ai-generativelanguage<0.7.0,>=0.6.18->langchain-google-genai) (5.3.0)\n",
      "Requirement already satisfied: pyasn1-modules>=0.2.1 in c:\\users\\simu\\appdata\\local\\programs\\python\\python310\\lib\\site-packages (from google-auth!=2.24.0,!=2.25.0,<3.0.0,>=2.14.1->google-ai-generativelanguage<0.7.0,>=0.6.18->langchain-google-genai) (0.3.0)\n",
      "Requirement already satisfied: six>=1.9.0 in c:\\users\\simu\\appdata\\local\\programs\\python\\python310\\lib\\site-packages (from google-auth!=2.24.0,!=2.25.0,<3.0.0,>=2.14.1->google-ai-generativelanguage<0.7.0,>=0.6.18->langchain-google-genai) (1.16.0)\n",
      "Requirement already satisfied: rsa<5,>=3.1.4 in c:\\users\\simu\\appdata\\local\\programs\\python\\python310\\lib\\site-packages (from google-auth!=2.24.0,!=2.25.0,<3.0.0,>=2.14.1->google-ai-generativelanguage<0.7.0,>=0.6.18->langchain-google-genai) (4.9)\n",
      "Requirement already satisfied: langsmith>=0.3.45 in c:\\users\\simu\\appdata\\local\\programs\\python\\python310\\lib\\site-packages (from langchain-core<0.4.0,>=0.3.75->langchain-google-genai) (0.4.25)\n",
      "Requirement already satisfied: tenacity!=8.4.0,<10.0.0,>=8.1.0 in c:\\users\\simu\\appdata\\local\\programs\\python\\python310\\lib\\site-packages (from langchain-core<0.4.0,>=0.3.75->langchain-google-genai) (9.1.2)\n",
      "Requirement already satisfied: jsonpatch<2.0,>=1.33 in c:\\users\\simu\\appdata\\local\\programs\\python\\python310\\lib\\site-packages (from langchain-core<0.4.0,>=0.3.75->langchain-google-genai) (1.33)\n",
      "Requirement already satisfied: PyYAML>=5.3 in c:\\users\\simu\\appdata\\local\\programs\\python\\python310\\lib\\site-packages (from langchain-core<0.4.0,>=0.3.75->langchain-google-genai) (6.0.2)\n",
      "Requirement already satisfied: typing-extensions>=4.7 in c:\\users\\simu\\appdata\\local\\programs\\python\\python310\\lib\\site-packages (from langchain-core<0.4.0,>=0.3.75->langchain-google-genai) (4.14.1)\n",
      "Requirement already satisfied: packaging>=23.2 in c:\\users\\simu\\appdata\\local\\programs\\python\\python310\\lib\\site-packages (from langchain-core<0.4.0,>=0.3.75->langchain-google-genai) (24.2)\n",
      "Requirement already satisfied: jsonpointer>=1.9 in c:\\users\\simu\\appdata\\local\\programs\\python\\python310\\lib\\site-packages (from jsonpatch<2.0,>=1.33->langchain-core<0.4.0,>=0.3.75->langchain-google-genai) (3.0.0)\n",
      "Requirement already satisfied: annotated-types>=0.6.0 in c:\\users\\simu\\appdata\\local\\programs\\python\\python310\\lib\\site-packages (from pydantic<3,>=2->langchain-google-genai) (0.7.0)\n",
      "Requirement already satisfied: pydantic-core==2.27.2 in c:\\users\\simu\\appdata\\local\\programs\\python\\python310\\lib\\site-packages (from pydantic<3,>=2->langchain-google-genai) (2.27.2)\n",
      "Requirement already satisfied: charset_normalizer<4,>=2 in c:\\users\\simu\\appdata\\local\\programs\\python\\python310\\lib\\site-packages (from requests<3.0.0,>=2.18.0->google-api-core!=2.0.*,!=2.1.*,!=2.10.*,!=2.2.*,!=2.3.*,!=2.4.*,!=2.5.*,!=2.6.*,!=2.7.*,!=2.8.*,!=2.9.*,<3.0.0,>=1.34.1->google-api-core[grpc]!=2.0.*,!=2.1.*,!=2.10.*,!=2.2.*,!=2.3.*,!=2.4.*,!=2.5.*,!=2.6.*,!=2.7.*,!=2.8.*,!=2.9.*,<3.0.0,>=1.34.1->google-ai-generativelanguage<0.7.0,>=0.6.18->langchain-google-genai) (3.1.0)\n",
      "Requirement already satisfied: idna<4,>=2.5 in c:\\users\\simu\\appdata\\local\\programs\\python\\python310\\lib\\site-packages (from requests<3.0.0,>=2.18.0->google-api-core!=2.0.*,!=2.1.*,!=2.10.*,!=2.2.*,!=2.3.*,!=2.4.*,!=2.5.*,!=2.6.*,!=2.7.*,!=2.8.*,!=2.9.*,<3.0.0,>=1.34.1->google-api-core[grpc]!=2.0.*,!=2.1.*,!=2.10.*,!=2.2.*,!=2.3.*,!=2.4.*,!=2.5.*,!=2.6.*,!=2.7.*,!=2.8.*,!=2.9.*,<3.0.0,>=1.34.1->google-ai-generativelanguage<0.7.0,>=0.6.18->langchain-google-genai) (3.4)\n",
      "Requirement already satisfied: urllib3<3,>=1.21.1 in c:\\users\\simu\\appdata\\local\\programs\\python\\python310\\lib\\site-packages (from requests<3.0.0,>=2.18.0->google-api-core!=2.0.*,!=2.1.*,!=2.10.*,!=2.2.*,!=2.3.*,!=2.4.*,!=2.5.*,!=2.6.*,!=2.7.*,!=2.8.*,!=2.9.*,<3.0.0,>=1.34.1->google-api-core[grpc]!=2.0.*,!=2.1.*,!=2.10.*,!=2.2.*,!=2.3.*,!=2.4.*,!=2.5.*,!=2.6.*,!=2.7.*,!=2.8.*,!=2.9.*,<3.0.0,>=1.34.1->google-ai-generativelanguage<0.7.0,>=0.6.18->langchain-google-genai) (2.0.2)\n",
      "Requirement already satisfied: certifi>=2017.4.17 in c:\\users\\simu\\appdata\\local\\programs\\python\\python310\\lib\\site-packages (from requests<3.0.0,>=2.18.0->google-api-core!=2.0.*,!=2.1.*,!=2.10.*,!=2.2.*,!=2.3.*,!=2.4.*,!=2.5.*,!=2.6.*,!=2.7.*,!=2.8.*,!=2.9.*,<3.0.0,>=1.34.1->google-api-core[grpc]!=2.0.*,!=2.1.*,!=2.10.*,!=2.2.*,!=2.3.*,!=2.4.*,!=2.5.*,!=2.6.*,!=2.7.*,!=2.8.*,!=2.9.*,<3.0.0,>=1.34.1->google-ai-generativelanguage<0.7.0,>=0.6.18->langchain-google-genai) (2022.12.7)\n",
      "Requirement already satisfied: pyasn1>=0.1.3 in c:\\users\\simu\\appdata\\local\\programs\\python\\python310\\lib\\site-packages (from rsa<5,>=3.1.4->google-auth!=2.24.0,!=2.25.0,<3.0.0,>=2.14.1->google-ai-generativelanguage<0.7.0,>=0.6.18->langchain-google-genai) (0.5.0)\n",
      "Requirement already satisfied: httpx<1,>=0.23.0 in c:\\users\\simu\\appdata\\local\\programs\\python\\python310\\lib\\site-packages (from langsmith>=0.3.45->langchain-core<0.4.0,>=0.3.75->langchain-google-genai) (0.28.1)\n",
      "Requirement already satisfied: orjson>=3.9.14 in c:\\users\\simu\\appdata\\local\\programs\\python\\python310\\lib\\site-packages (from langsmith>=0.3.45->langchain-core<0.4.0,>=0.3.75->langchain-google-genai) (3.11.3)\n",
      "Requirement already satisfied: requests-toolbelt>=1.0.0 in c:\\users\\simu\\appdata\\local\\programs\\python\\python310\\lib\\site-packages (from langsmith>=0.3.45->langchain-core<0.4.0,>=0.3.75->langchain-google-genai) (1.0.0)\n",
      "Requirement already satisfied: zstandard>=0.23.0 in c:\\users\\simu\\appdata\\local\\programs\\python\\python310\\lib\\site-packages (from langsmith>=0.3.45->langchain-core<0.4.0,>=0.3.75->langchain-google-genai) (0.24.0)\n",
      "Requirement already satisfied: anyio in c:\\users\\simu\\appdata\\local\\programs\\python\\python310\\lib\\site-packages (from httpx<1,>=0.23.0->langsmith>=0.3.45->langchain-core<0.4.0,>=0.3.75->langchain-google-genai) (4.8.0)\n",
      "Requirement already satisfied: httpcore==1.* in c:\\users\\simu\\appdata\\local\\programs\\python\\python310\\lib\\site-packages (from httpx<1,>=0.23.0->langsmith>=0.3.45->langchain-core<0.4.0,>=0.3.75->langchain-google-genai) (1.0.7)\n",
      "Requirement already satisfied: h11<0.15,>=0.13 in c:\\users\\simu\\appdata\\local\\programs\\python\\python310\\lib\\site-packages (from httpcore==1.*->httpx<1,>=0.23.0->langsmith>=0.3.45->langchain-core<0.4.0,>=0.3.75->langchain-google-genai) (0.14.0)\n",
      "Requirement already satisfied: exceptiongroup>=1.0.2 in c:\\users\\simu\\appdata\\local\\programs\\python\\python310\\lib\\site-packages (from anyio->httpx<1,>=0.23.0->langsmith>=0.3.45->langchain-core<0.4.0,>=0.3.75->langchain-google-genai) (1.2.2)\n",
      "Requirement already satisfied: sniffio>=1.1 in c:\\users\\simu\\appdata\\local\\programs\\python\\python310\\lib\\site-packages (from anyio->httpx<1,>=0.23.0->langsmith>=0.3.45->langchain-core<0.4.0,>=0.3.75->langchain-google-genai) (1.3.1)\n",
      "Note: you may need to restart the kernel to use updated packages.\n"
     ]
    }
   ],
   "source": [
    "%pip install langchain-google-genai"
   ]
  },
  {
   "cell_type": "code",
   "execution_count": 1,
   "id": "8aaa03a4",
   "metadata": {},
   "outputs": [
    {
     "name": "stdout",
     "output_type": "stream",
     "text": [
      "## Fancy Cafe Names:\n",
      "\n",
      "**Evocative & Atmospheric:**\n",
      "\n",
      "* The Gilded Bean\n",
      "* Ember & Oak\n",
      "* The Velvet Spoon\n",
      "* Whispering Pines Cafe\n",
      "* Moonlit Brew\n",
      "* Crimson Cup\n",
      "* The Copper Kettle\n",
      "* The Alchemist's Brewhouse\n",
      "* The Secret Garden Cafe\n",
      "* Starlit Sips\n",
      "\n",
      "**Elegant & Sophisticated:**\n",
      "\n",
      "* La Belle Époque Cafe\n",
      "* The Grand Cafe\n",
      "* Atelier de Café\n",
      "* The Parisian Patisserie\n",
      "* The Ivory Tower\n",
      "* The Sterling Spoon\n",
      "* Maison du Café\n",
      "* The Royal Bean\n",
      "* Chateau de Café\n",
      "*  The Gilded Lily\n",
      "\n",
      "**Unique & Playful:**\n",
      "\n",
      "* The Caffeine Patch\n",
      "* The Daily Grind (with a sophisticated logo/design)\n",
      "* The Buzz Stop\n",
      "* The Coffee Alchemist\n",
      "* The Bean Scene\n",
      "*  Brewtiful Beginnings\n",
      "* The Cozy Kettle\n",
      "*  Percolations\n",
      "* The Daily Dose\n",
      "*  Ampersand & Espresso\n",
      "\n",
      "\n",
      "**Location Specific (adapt to your area):**\n",
      "\n",
      "* [Your Street Name] Coffee House\n",
      "* [Landmark] Cafe\n",
      "* [Neighborhood] Grind\n",
      "\n",
      "\n",
      "**Tips for choosing:**\n",
      "\n",
      "* **Check for availability:** Make sure the name isn't already in use (website domain, social media handles, etc.).\n",
      "* **Consider your brand:**  Does the name reflect your cafe's atmosphere, target audience, and menu?\n",
      "* **Keep it concise and memorable:**  A shorter name is easier to recall and brand.\n",
      "* **Say it out loud:** Does it sound good? Is it easy to pronounce?\n",
      "\n",
      "\n",
      "Remember to check for trademark availability before settling on a name. Good luck with your cafe!\n"
     ]
    }
   ],
   "source": [
    "from dotenv import load_dotenv\n",
    "from langchain_google_genai import ChatGoogleGenerativeAI\n",
    "load_dotenv()  # loads GOOGLE_API_KEY from .env\n",
    "\n",
    "llm = ChatGoogleGenerativeAI(model=\"gemini-1.5-flash\", temperature=0.7)\n",
    "\n",
    "response = llm.invoke(\"I want to open a cafe. Suggest some fancy names for it.\")\n",
    "print(response.content)\n"
   ]
  },
  {
   "cell_type": "code",
   "execution_count": 4,
   "id": "682c735f",
   "metadata": {},
   "outputs": [
    {
     "name": "stdout",
     "output_type": "stream",
     "text": [
      "I want to open a cozy cafe that serves Japanese food. Suggest a fancy name for it.\n"
     ]
    }
   ],
   "source": [
    "from langchain.prompts import PromptTemplate\n",
    "\n",
    "prompt_template_name = PromptTemplate(\n",
    "    input_variables=[\"cuisine\", \"vibe\"],\n",
    "    template=\"I want to open a {vibe} cafe that serves {cuisine} food. Suggest a fancy name for it.\"\n",
    ")\n",
    "\n",
    "print(prompt_template_name.format(cuisine=\"Japanese\", vibe=\"cozy\"))\n",
    "\n"
   ]
  },
  {
   "cell_type": "code",
   "execution_count": 5,
   "id": "d47a4b75",
   "metadata": {},
   "outputs": [
    {
     "data": {
      "text/plain": [
       "\"**Emphasizing Italian Heritage:**\\n\\n*  Casa Amante (Lover's House)\\n*  La Dolce Vita Caffè\\n*  Il Giardino Segreto (The Secret Garden)\\n*  Piazza Emilia\\n*  Trattoria Moderna\\n*  Bottega del Caffè (Coffee Shop)\\n*  Aroma di Roma (Scent of Rome)\\n\\n\\n**Emphasizing Modernity & Chic:**\\n\\n*  Aperitivo & Co.\\n*  The Espresso Bar\\n*  Caffè Elegante\\n*  Lineage Coffee & Cucina\\n*  The Crafted Plate\\n*  Artisan Espresso\\n*  Miele & Latte (Honey & Milk)\\n\\n\\n**Creative & Evocative Names:**\\n\\n*  The Golden Ratio\\n*  Ember & Oak\\n*  The Amalfi Coast Cafe\\n*  Cinque Terre Kitchen\\n*  Bellissimo Bites\\n*  A Tavola (To the Table)\\n\\n\\n**Tips for Choosing:**\\n\\n* **Check for availability:** Make sure the name isn't already in use (website domain, social media handles).\\n* **Keep it concise and memorable:**  Shorter names are easier to remember and brand.\\n* **Consider your target audience:**  A sophisticated name might attract a different clientele than a more playful one.\\n* **Say it out loud:**  Does it sound good? Is it easy to pronounce?\\n\\n\\nRemember to also consider a logo and overall branding that complements your chosen name to create a cohesive and memorable identity for your cafe.\""
      ]
     },
     "execution_count": 5,
     "metadata": {},
     "output_type": "execute_result"
    }
   ],
   "source": [
    "from langchain.chains import LLMChain\n",
    "\n",
    "chain = LLMChain(llm=llm, prompt=prompt_template_name)\n",
    "chain.run(cuisine=\"Italian\", vibe=\"modern\")"
   ]
  },
  {
   "cell_type": "code",
   "execution_count": 6,
   "id": "e15e110f",
   "metadata": {},
   "outputs": [],
   "source": [
    "# trying simple sequential search\n",
    "\n",
    "llm = ChatGoogleGenerativeAI(model=\"gemini-1.5-flash\", temperature=0.7)\n",
    "prompt_template_name = PromptTemplate(\n",
    "    input_variables=[\"cuisine\", \"vibe\"],\n",
    "    template=\"I want to open a {vibe} cafe that serves {cuisine} food. Suggest only one fancy name for it.\"\n",
    ")\n",
    "\n",
    "name_chain = LLMChain(llm=llm, prompt=prompt_template_name)\n",
    "\n",
    "prompt_template_items = PromptTemplate(\n",
    "    input_variables = ['cafe_name'],\n",
    "    template = \"\"\"Suggest some menu items for {cafe_name}. Return it as a comma separated list\"\"\"\n",
    ")\n",
    "\n",
    "food_items_chain = LLMChain(llm=llm, prompt=prompt_template_items)\n"
   ]
  },
  {
   "cell_type": "code",
   "execution_count": 9,
   "id": "d4025161",
   "metadata": {},
   "outputs": [
    {
     "name": "stdout",
     "output_type": "stream",
     "text": [
      "Cafe Name: Amber & Saffron\n",
      "Menu Items: Spiced Lamb Tagine, Saffron Risotto, Amber Ale-Braised Short Ribs, Saffron-Infused Crème Brûlée,  Amber-Glazed Salmon, Saffron & Pistachio Cake,  Spiced Carrot & Chickpea Salad,  Amber Wheat Beer Bread,  Saffron-Scented Chicken,  Date & Saffron Pudding\n"
     ]
    }
   ],
   "source": [
    "# Sequentially run the chains using a function since SimpleSequentialChain requires single input\n",
    "\n",
    "def get_cafe_name_and_menu(cuisine, vibe):\n",
    "\tcafe_name = name_chain.run(cuisine=cuisine, vibe=vibe)\n",
    "\tmenu_items = food_items_chain.run(cafe_name=cafe_name)\n",
    "\treturn cafe_name, menu_items\n",
    "\n",
    "cafe_name, menu_items = get_cafe_name_and_menu(\"Indian\", \"luxurious\")\n",
    "print(\"Cafe Name:\", cafe_name)\n",
    "print(\"Menu Items:\", menu_items)"
   ]
  },
  {
   "cell_type": "code",
   "execution_count": 15,
   "id": "04e18a03",
   "metadata": {},
   "outputs": [],
   "source": [
    "# trying sequential search\n",
    "\n",
    "llm = ChatGoogleGenerativeAI(model=\"gemini-1.5-flash\", temperature=0.7)\n",
    "prompt_template_name = PromptTemplate(\n",
    "    input_variables=[\"cuisine\", \"vibe\"],\n",
    "    template=\"I want to open a {vibe} cafe that serves {cuisine} food. Suggest only one fancy name for it.\"\n",
    ")\n",
    "\n",
    "name_chain = LLMChain(llm=llm, prompt=prompt_template_name, output_key=\"cafe_name\")\n",
    "\n",
    "prompt_template_items = PromptTemplate(\n",
    "    input_variables = ['cafe_name'],\n",
    "    template = \"\"\"Suggest some menu items for {cafe_name}. Return it as a comma separated list\"\"\"\n",
    ")\n",
    "\n",
    "food_items_chain = LLMChain(llm=llm, prompt=prompt_template_items, output_key=\"menu_items\")\n"
   ]
  },
  {
   "cell_type": "code",
   "execution_count": 17,
   "id": "798de4d0",
   "metadata": {},
   "outputs": [
    {
     "name": "stdout",
     "output_type": "stream",
     "text": [
      "\n",
      "\n",
      "\u001b[1m> Entering new SequentialChain chain...\u001b[0m\n",
      "\n",
      "\u001b[1m> Finished chain.\u001b[0m\n",
      "{'cuisine': 'Mexican', 'vibe': 'vibrant', 'cafe_name': 'Sol y Sombra (Sun and Shade)', 'menu_items': 'Gazpacho, Paella, Tapas Trio, Churros con Chocolate, Sangria,  Ensalada Española,  Gambas al Ajillo,  Tortilla Española,  Crema Catalana,  Iberico Ham Croquettes'}\n"
     ]
    }
   ],
   "source": [
    "from langchain.chains import SequentialChain\n",
    "\n",
    "chain = SequentialChain(\n",
    "    chains=[name_chain, food_items_chain],\n",
    "    input_variables=[\"cuisine\", \"vibe\"],\n",
    "    output_variables=[\"cafe_name\", \"menu_items\"],\n",
    "    verbose=True\n",
    ")\n",
    "result = chain.invoke({\"cuisine\": \"Mexican\", \"vibe\": \"vibrant\"})\n",
    "print(result)"
   ]
  },
  {
   "cell_type": "code",
   "execution_count": null,
   "id": "6e8108ce",
   "metadata": {},
   "outputs": [],
   "source": []
  }
 ],
 "metadata": {
  "kernelspec": {
   "display_name": "Python 3",
   "language": "python",
   "name": "python3"
  },
  "language_info": {
   "codemirror_mode": {
    "name": "ipython",
    "version": 3
   },
   "file_extension": ".py",
   "mimetype": "text/x-python",
   "name": "python",
   "nbconvert_exporter": "python",
   "pygments_lexer": "ipython3",
   "version": "3.10.7"
  }
 },
 "nbformat": 4,
 "nbformat_minor": 5
}
